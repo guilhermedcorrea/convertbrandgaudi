{
 "cells": [
  {
   "cell_type": "code",
   "execution_count": 285,
   "metadata": {},
   "outputs": [
    {
     "name": "stdout",
     "output_type": "stream",
     "text": [
      "[{'SKU': '8197'}, {'SALDO': '3.034'}, {'SKU': '8198'}, {'SALDO': '2.072'}, {'SKU': '8196'}, {'SALDO': '2.150'}, {'SKU': '8194'}, {'SALDO': '1.034'}, {'SKU': '8195'}, {'SKU': '8200'}, {'SALDO': '3.637'}, {'SKU': '8199'}, {'SALDO': '1.350'}, {'SKU': '8204'}, {'SALDO': '2.898'}, {'SKU': '8187'}, {'SALDO': '10.000'}, {'SKU': '8246'}, {'SALDO': '10.000'}, {'SKU': '8193'}, {'SALDO': '8.997'}, {'SKU': '8191'}, {'SALDO': '3.934'}, {'SKU': '8252'}, {'SALDO': '3.273'}, {'SKU': '8192'}, {'SALDO': '2.068'}, {'SKU': '8155'}, {'SALDO': '10.000'}, {'SKU': '8172'}, {'SALDO': '8.739'}, {'SKU': '8273'}, {'SALDO': '5.173'}, {'SKU': '8274'}, {'SALDO': '2.812'}, {'SKU': '8275'}, {'SALDO': '5.699'}, {'SKU': '8163'}, {'SALDO': '8.149'}, {'SKU': '8258'}, {'SALDO': '1.075'}, {'SKU': '8259'}, {'SALDO': '2.927'}, {'SKU': '8260'}, {'SALDO': '1.012'}, {'SKU': '8261'}, {'SKU': '8165'}, {'SKU': '8158'}, {'SALDO': '1.123'}, {'SKU': '8270'}, {'SALDO': '4.649'}, {'SKU': '8201'}, {'SALDO': '7.814'}, {'SKU': '8283'}, {'SALDO': '10.000'}, {'SKU': '8160'}, {'SALDO': '6.129'}, {'SKU': '8159'}, {'SKU': '8216'}, {'SALDO': '4.200'}, {'SKU': '8166'}, {'SALDO': '1.620'}, {'SKU': '8167'}, {'SALDO': '1.204'}, {'SKU': '8161'}, {'SALDO': '3.305'}, {'SKU': '8162'}, {'SALDO': '5.305'}, {'SKU': '8271'}, {'SALDO': '1.996'}, {'SKU': '8272'}, {'SALDO': '6.044'}, {'SKU': '8139'}, {'SKU': '8253'}, {'SALDO': '8.076'}, {'SKU': '8118'}, {'SALDO': '2.105'}, {'SKU': '8117'}, {'SALDO': '4.880'}, {'SKU': '8245'}, {'SALDO': '9.369'}, {'SKU': '8152'}, {'SALDO': '3.476'}, {'SKU': '8133'}, {'SALDO': '2.412'}, {'SKU': '8251'}, {'SALDO': '6.734'}, {'SKU': '8153'}, {'SALDO': '3.981'}, {'SKU': '8145'}, {'SALDO': '5.689'}, {'SKU': '8144'}, {'SALDO': '1.351'}, {'SKU': '8134'}, {'SALDO': '3.651'}, {'SKU': '8135'}, {'SALDO': '1.248'}, {'SKU': '8120'}, {'SKU': '8073'}, {'SALDO': '5.593'}, {'SKU': '8042'}, {'SALDO': '6.093'}, {'SKU': '8267'}, {'SALDO': '6.830'}, {'SKU': '8268'}, {'SKU': '8269'}, {'SALDO': '8.833'}, {'SKU': '8020'}, {'SALDO': '10.000'}, {'SKU': '8254'}, {'SKU': '8255'}, {'SKU': '8256'}, {'SKU': '8257'}, {'SKU': '8214'}, {'SALDO': '1.269'}, {'SKU': '8213'}, {'SKU': '8064'}, {'SALDO': '10.000'}, {'SKU': '8044'}, {'SALDO': '10.000'}, {'SKU': '8045'}, {'SALDO': '3.760'}, {'SKU': '8043'}, {'SALDO': '10.000'}, {'SKU': '8263'}, {'SKU': '8050'}, {'SALDO': '5.263'}, {'SKU': '8052'}, {'SALDO': '4.707'}, {'SKU': '8051'}, {'SALDO': '10.000'}, {'SKU': '8053'}, {'SALDO': '2.589'}, {'SKU': '8041'}, {'SALDO': '4.754'}, {'SKU': '8264'}, {'SALDO': '3.782'}, {'SKU': '8058'}, {'SALDO': '3.203'}, {'SKU': '8037'}, {'SALDO': '10.000'}, {'SKU': '8212'}, {'SALDO': '7.617'}, {'SKU': '8036'}, {'SALDO': '10.000'}, {'SKU': '8035'}, {'SALDO': '10.000'}, {'SKU': '8024'}, {'SALDO': '2.248'}, {'SKU': '8262'}, {'SALDO': '10.000'}, {'SKU': '8040'}, {'SALDO': '8.495'}, {'SKU': '8039'}, {'SALDO': '3.950'}, {'SKU': '8215'}, {'SALDO': '10.000'}, {'SKU': '8031'}, {'SALDO': '10.000'}, {'SKU': '8218'}, {'SALDO': '5.137'}, {'SKU': '8033'}, {'SALDO': '1.734'}, {'SKU': '8009'}, {'SALDO': '1.657'}, {'SKU': '8010'}, {'SALDO': '1.836'}, {'SKU': '8072'}, {'SALDO': '10.000'}, {'SKU': '8071'}, {'SALDO': '6.274'}, {'SKU': '8028'}, {'SALDO': '10.000'}, {'SKU': '8059'}, {'SALDO': '10.000'}, {'SKU': '8217'}, {'SALDO': '2.612'}, {'SKU': '8265'}, {'SALDO': '3.906'}, {'SKU': '8266'}, {'SALDO': '8.157'}, {'SKU': '8203'}, {'SALDO': '4.250'}, {'SKU': '8222'}, {'SALDO': '6.115'}, {'SKU': '8227'}, {'SALDO': '10.000'}, {'SKU': '8284'}, {'SALDO': '1.659'}, {'SKU': '8178'}, {'SALDO': '10.000'}, {'SKU': '8175'}, {'SALDO': '3.334'}, {'SKU': '8179'}, {'SALDO': '10.000'}, {'SKU': '8278'}, {'SALDO': '5.109'}, {'SKU': '8279'}, {'SALDO': '9.435'}, {'SKU': '8280'}, {'SALDO': '7.114'}, {'SKU': '8176'}, {'SALDO': '10.000'}, {'SKU': '8177'}, {'SALDO': '3.109'}, {'SKU': '8180'}, {'SALDO': '3.692'}, {'SKU': '8181'}, {'SALDO': '8.827'}, {'SKU': '8223'}, {'SALDO': '6.175'}, {'SKU': '8186'}, {'SALDO': '10.000'}, {'SKU': '8226'}, {'SALDO': '5.324'}, {'SKU': '8182'}, {'SALDO': '10.000'}, {'SKU': '8231'}, {'SALDO': '6.818'}, {'SKU': '8232'}, {'SALDO': '7.118'}, {'SKU': '8233'}, {'SALDO': '6.793'}, {'SKU': '8184'}, {'SKU': '8234'}, {'SALDO': '2.993'}, {'SKU': '8236'}, {'SALDO': '6.385'}, {'SKU': '8235'}, {'SALDO': '5.921'}, {'SKU': '8237'}, {'SALDO': '6.998'}, {'SKU': '8238'}, {'SALDO': '10.000'}, {'SKU': '8207'}, {'SALDO': '2.732'}, {'SKU': '8113'}, {'SKU': '8097'}, {'SALDO': '10.000'}, {'SKU': '8221'}, {'SALDO': '9.329'}, {'SKU': '8098'}, {'SALDO': '10.000'}, {'SKU': '8286'}, {'SALDO': '1.202'}, {'SKU': '8100'}, {'SALDO': '10.000'}, {'SKU': '8282'}, {'SALDO': '2.024'}, {'SKU': '8093'}, {'SALDO': '10.000'}, {'SKU': '8285'}, {'SKU': '8104'}, {'SALDO': '5.313'}, {'SKU': '8228'}, {'SALDO': '10.000'}, {'SKU': '8229'}, {'SALDO': '10.000'}, {'SKU': '8230'}, {'SALDO': '2.257'}, {'SKU': '8277'}, {'SALDO': '6.127'}, {'SKU': '8287'}, {'SALDO': '2.906'}, {'SKU': '8281'}, {'SALDO': '1.584'}, {'SKU': '8209'}, {'SALDO': '3.685'}, {'SKU': '8210'}, {'SALDO': '3.634'}, {'SKU': '8211'}, {'SALDO': '2.220'}, {'SKU': '8276'}, {'SKU': '8089'}, {'SALDO': '4.803'}, {'SKU': '8088'}, {'SALDO': '10.000'}, {'SKU': '8105'}, {'SKU': '8106'}, {'SKU': '8109'}, {'SALDO': '4.505'}, {'SKU': '8108'}, {'SALDO': '5.906'}, {'SKU': '8090'}, {'SALDO': '1.386'}, {'SKU': '8220'}, {'SALDO': '3.373'}, {'SKU': '8091'}, {'SALDO': '3.840'}, {'SKU': '8219'}, {'SALDO': '3.807'}, {'SKU': '8103'}, {'SALDO': '7.675'}, {'SKU': '8102'}, {'SALDO': '10.000'}, {'SKU': '8083'}, {'SALDO': '2.148'}, {'SKU': '8085'}, {'SKU': '8092'}, {'SALDO': '2.533'}, {'SKU': '8209'}, {'SKU': '8211'}, {'SKU': '8095'}, {'SALDO': '8.180'}, {'SKU': '8239'}, {'SALDO': '5.452'}, {'SKU': '8240'}, {'SALDO': '5.255'}, {'SKU': '8241'}, {'SALDO': '10.000'}, {'SKU': '8110'}, {'SALDO': '3.997'}, {'SKU': '8111'}, {'SALDO': '9.794'}, {'SKU': '8087'}, {'SALDO': '10.000'}, {'SKU': '8096'}, {'SALDO': '4.372'}, {'SKU': '8242'}, {'SALDO': '2.400'}, {'SKU': '8244'}, {'SALDO': '2.000'}, {'SKU': '8243'}, {'SALDO': '2.383'}]\n"
     ]
    }
   ],
   "source": [
    "import pandas as pd\n",
    "import re\n",
    "from ast import Yield\n",
    "from itertools import zip_longest\n",
    "import os\n",
    "import pytesseract\n",
    "from pdf2image import convert_from_path, convert_from_bytes\n",
    "import cv2\n",
    "import re\n",
    "import pandas as pd\n",
    "from datetime import datetime\n",
    "from pdf2image import convert_from_path,convert_from_bytes\n",
    "from pdf2image.exceptions import (\n",
    "PDFInfoNotInstalledError,\n",
    "PDFPageCountError,\n",
    "PDFSyntaxError\n",
    ")\n",
    "\n",
    "\n",
    "class Gaudi:\n",
    "    pytesseract.pytesseract.tesseract_cmd = r'C:\\\\Program Files\\\\Tesseract-OCR\\\\tesseract.exe'\n",
    "    def __init__(self):\n",
    "        self.config= '--psm 4  -c preserve_interword_spaces=1 tessedit_char_whitelist=ABCDEFGHIJKLMNOPQRSTUVWXYZabcdefghijklmnopqrstuvwxyz0123456789.[]|,,.~â ÃÂç'\n",
    "        self.tesseract_language = \"por\"\n",
    "        self.lista_produtos = []\n",
    "        self.imagem = 'C:\\\\Users\\\\Crawler\\\\Documents\\\\DEVPYTHON\\\\brands\\\\imagens\\\\'\n",
    "        self.path = 'C:\\\\Users\\\\Crawler\\\\Documents\\\\DEVPYTHON\\\\brands\\\\gaudi.pdf'\n",
    "        self.dataatual = str(datetime.today().strftime('%Y-%m-%d %H:%M'))\n",
    "        self.idmarca = '14'\n",
    "\n",
    "    def converter_imgpdf(self):\n",
    "        images = convert_from_path(self.path, 200, poppler_path=r'C:\\\\Users\\\\Crawler\\\\Documents\\\\appconversorarquivos\\\\poppler-21.10.0\\\\bin')\n",
    "        for i in range(len(images)):\n",
    "            images[i].save(self.imagem+'\\gaudi'+ str(i) +'.jpg', 'JPEG')\n",
    "\n",
    "\n",
    "    def reader_imagem(self):\n",
    "        lista_produtos = []\n",
    "        imgs = os.listdir(self.imagem)\n",
    "        for im in imgs:\n",
    "            \n",
    "            if 'gaudi' in im:\n",
    "                img = cv2.imread(os.path.join(self.imagem,im))\n",
    "                #imagemgray = cv2.cvtColor(img, cv2.COLOR_RGB2GRAY) #Convertendo para rgb\n",
    "                imagemgray = cv2.cvtColor(img, cv2.COLOR_BGR2RGB) #Convertendo para rgb\n",
    "                texto = pytesseract.image_to_string(imagemgray, lang= self.tesseract_language,config=self.config)\n",
    "                valores = texto.split()\n",
    "                saldos_produtos = re.compile(r'([0]?[o]?\\d+\\.\\d+)')\n",
    "                referencias_produtos = re.compile(r'([8]\\d{3}[0]?)')\n",
    "                for valor in valores:\n",
    "                    produto_saldo = saldos_produtos.findall(valor)\n",
    "                   \n",
    "                    produto_referencia = referencias_produtos.findall(valor)\n",
    "\n",
    "                    for x, y in zip_longest(produto_referencia, produto_saldo):\n",
    "                        dict_items = {}\n",
    "\n",
    "                        if x != None:\n",
    "                            try:\n",
    "                                dict_items['SKU'] = x\n",
    "                            except:\n",
    "                                dict_items['SKU'] = 'naotem'\n",
    "\n",
    "                        elif y !=None:\n",
    "\n",
    "                            try:\n",
    "                                dict_items['SALDO'] = y\n",
    "                            except:\n",
    "                                dict_items['SALDO'] = 0\n",
    "\n",
    "                        \n",
    "                        lista_produtos.append(dict_items)\n",
    "        print(lista_produtos)\n",
    "        data = pd.DataFrame(lista_produtos)\n",
    "        data.to_excel(\"gauditeste.xlsx\")\n",
    "                    \n",
    "gaudi = Gaudi()\n",
    "gaudi.reader_imagem()\n"
   ]
  }
 ],
 "metadata": {
  "kernelspec": {
   "display_name": "Python 3.8.9 ('venv': venv)",
   "language": "python",
   "name": "python3"
  },
  "language_info": {
   "codemirror_mode": {
    "name": "ipython",
    "version": 3
   },
   "file_extension": ".py",
   "mimetype": "text/x-python",
   "name": "python",
   "nbconvert_exporter": "python",
   "pygments_lexer": "ipython3",
   "version": "3.8.9"
  },
  "orig_nbformat": 4,
  "vscode": {
   "interpreter": {
    "hash": "72e3b7a381e9d80eda3bfc69a09ca98cdd9583ce2fd8586d6af4f80c12071e35"
   }
  }
 },
 "nbformat": 4,
 "nbformat_minor": 2
}
